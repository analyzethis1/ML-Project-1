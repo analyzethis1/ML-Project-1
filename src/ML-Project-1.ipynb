{
 "cells": [
  {
   "cell_type": "markdown",
   "id": "311292fc-65c4-41d3-bfc6-28420dcf3abf",
   "metadata": {},
   "source": [
    "# ML-Project-1"
   ]
  },
  {
   "cell_type": "markdown",
   "id": "38b87879-f28d-477c-8996-ed0314b3e8a6",
   "metadata": {},
   "source": [
    "### A predictive maintenance model for real estate assets that can predict failures using sensor data from building systems. This model effectively trains an agent to schedule maintenance optimally and provides a dashboard for service managers to prioritize repairs."
   ]
  },
  {
   "cell_type": "markdown",
   "id": "39c4fdd0-0b7e-4bc8-82db-bc1da676a42d",
   "metadata": {},
   "source": [
    "## ** Phase 1 - Data Acquisition & Preprocessing **"
   ]
  },
  {
   "cell_type": "markdown",
   "id": "5e11a0ba-14d2-437f-811e-7a450cd66375",
   "metadata": {},
   "source": [
    "## 1. Load and Process the data"
   ]
  },
  {
   "cell_type": "code",
   "execution_count": 5,
   "id": "ecd06228-1509-4e4e-81d9-7ecb01f3e380",
   "metadata": {},
   "outputs": [
    {
     "name": "stdout",
     "output_type": "stream",
     "text": [
      "   engine_id  cycle  op_setting_1  op_setting_2  op_setting_3  sensor_1  \\\n",
      "0          1      1       -0.0007       -0.0004         100.0    518.67   \n",
      "1          1      2        0.0019       -0.0003         100.0    518.67   \n",
      "2          1      3       -0.0043        0.0003         100.0    518.67   \n",
      "3          1      4        0.0007        0.0000         100.0    518.67   \n",
      "4          1      5       -0.0019       -0.0002         100.0    518.67   \n",
      "\n",
      "   sensor_2  sensor_3  sensor_4  sensor_5  ...  sensor_12  sensor_13  \\\n",
      "0    641.82   1589.70   1400.60     14.62  ...     521.66    2388.02   \n",
      "1    642.15   1591.82   1403.14     14.62  ...     522.28    2388.07   \n",
      "2    642.35   1587.99   1404.20     14.62  ...     522.42    2388.03   \n",
      "3    642.35   1582.79   1401.87     14.62  ...     522.86    2388.08   \n",
      "4    642.37   1582.85   1406.22     14.62  ...     522.19    2388.04   \n",
      "\n",
      "   sensor_14  sensor_15  sensor_16  sensor_17  sensor_18  sensor_19  \\\n",
      "0    8138.62     8.4195       0.03        392       2388      100.0   \n",
      "1    8131.49     8.4318       0.03        392       2388      100.0   \n",
      "2    8133.23     8.4178       0.03        390       2388      100.0   \n",
      "3    8133.83     8.3682       0.03        392       2388      100.0   \n",
      "4    8133.80     8.4294       0.03        393       2388      100.0   \n",
      "\n",
      "   sensor_20  sensor_21  \n",
      "0      39.06    23.4190  \n",
      "1      39.00    23.4236  \n",
      "2      38.95    23.3442  \n",
      "3      38.88    23.3739  \n",
      "4      38.90    23.4044  \n",
      "\n",
      "[5 rows x 26 columns]\n",
      "<class 'pandas.core.frame.DataFrame'>\n",
      "RangeIndex: 20631 entries, 0 to 20630\n",
      "Data columns (total 26 columns):\n",
      " #   Column        Non-Null Count  Dtype  \n",
      "---  ------        --------------  -----  \n",
      " 0   engine_id     20631 non-null  int64  \n",
      " 1   cycle         20631 non-null  int64  \n",
      " 2   op_setting_1  20631 non-null  float64\n",
      " 3   op_setting_2  20631 non-null  float64\n",
      " 4   op_setting_3  20631 non-null  float64\n",
      " 5   sensor_1      20631 non-null  float64\n",
      " 6   sensor_2      20631 non-null  float64\n",
      " 7   sensor_3      20631 non-null  float64\n",
      " 8   sensor_4      20631 non-null  float64\n",
      " 9   sensor_5      20631 non-null  float64\n",
      " 10  sensor_6      20631 non-null  float64\n",
      " 11  sensor_7      20631 non-null  float64\n",
      " 12  sensor_8      20631 non-null  float64\n",
      " 13  sensor_9      20631 non-null  float64\n",
      " 14  sensor_10     20631 non-null  float64\n",
      " 15  sensor_11     20631 non-null  float64\n",
      " 16  sensor_12     20631 non-null  float64\n",
      " 17  sensor_13     20631 non-null  float64\n",
      " 18  sensor_14     20631 non-null  float64\n",
      " 19  sensor_15     20631 non-null  float64\n",
      " 20  sensor_16     20631 non-null  float64\n",
      " 21  sensor_17     20631 non-null  int64  \n",
      " 22  sensor_18     20631 non-null  int64  \n",
      " 23  sensor_19     20631 non-null  float64\n",
      " 24  sensor_20     20631 non-null  float64\n",
      " 25  sensor_21     20631 non-null  float64\n",
      "dtypes: float64(22), int64(4)\n",
      "memory usage: 4.1 MB\n",
      "None\n"
     ]
    }
   ],
   "source": [
    "import os\n",
    "import pandas as pd\n",
    "\n",
    "cmapss_folder = os.path.join(os.path.expanduser(\"~\"), \"Desktop\", \"CMaps\")\n",
    "train_file = os.path.join(cmapss_folder, \"train_FD001.txt\")\n",
    "\n",
    "train_df = pd.read_csv(train_file, sep=\"\\s+\", header=None, engine=\"python\")\n",
    "\n",
    "columns = [\"engine_id\", \"cycle\"] + [f\"op_setting_{i}\" for i in range(1, 4)] + [f\"sensor_{i}\" for i in range(1, 22)]\n",
    "train_df.columns = columns\n",
    "\n",
    "train_df.sort_values([\"engine_id\", \"cycle\"], inplace=True)\n",
    "\n",
    "print(train_df.head())\n",
    "print(train_df.info())\n"
   ]
  },
  {
   "cell_type": "markdown",
   "id": "36d2e9d2-0224-4268-a377-e30098e82736",
   "metadata": {},
   "source": [
    "## 2. Normalize Sensor Data"
   ]
  },
  {
   "cell_type": "code",
   "execution_count": 8,
   "id": "9bde5a8f-d81f-492f-b0c0-93c1efe3a0c0",
   "metadata": {},
   "outputs": [
    {
     "name": "stdout",
     "output_type": "stream",
     "text": [
      "   engine_id  cycle  op_setting_1  op_setting_2  op_setting_3  sensor_1  \\\n",
      "0          1      1      0.459770      0.166667           0.0       0.0   \n",
      "1          1      2      0.609195      0.250000           0.0       0.0   \n",
      "2          1      3      0.252874      0.750000           0.0       0.0   \n",
      "3          1      4      0.540230      0.500000           0.0       0.0   \n",
      "4          1      5      0.390805      0.333333           0.0       0.0   \n",
      "\n",
      "   sensor_2  sensor_3  sensor_4  sensor_5  ...  sensor_12  sensor_13  \\\n",
      "0  0.183735  0.406802  0.309757       0.0  ...   0.633262   0.205882   \n",
      "1  0.283133  0.453019  0.352633       0.0  ...   0.765458   0.279412   \n",
      "2  0.343373  0.369523  0.370527       0.0  ...   0.795309   0.220588   \n",
      "3  0.343373  0.256159  0.331195       0.0  ...   0.889126   0.294118   \n",
      "4  0.349398  0.257467  0.404625       0.0  ...   0.746269   0.235294   \n",
      "\n",
      "   sensor_14  sensor_15  sensor_16  sensor_17  sensor_18  sensor_19  \\\n",
      "0   0.199608   0.363986        0.0   0.333333        0.0        0.0   \n",
      "1   0.162813   0.411312        0.0   0.333333        0.0        0.0   \n",
      "2   0.171793   0.357445        0.0   0.166667        0.0        0.0   \n",
      "3   0.174889   0.166603        0.0   0.333333        0.0        0.0   \n",
      "4   0.174734   0.402078        0.0   0.416667        0.0        0.0   \n",
      "\n",
      "   sensor_20  sensor_21  \n",
      "0   0.713178   0.724662  \n",
      "1   0.666667   0.731014  \n",
      "2   0.627907   0.621375  \n",
      "3   0.573643   0.662386  \n",
      "4   0.589147   0.704502  \n",
      "\n",
      "[5 rows x 26 columns]\n"
     ]
    },
    {
     "data": {
      "text/plain": [
       "['scaler.pkl']"
      ]
     },
     "execution_count": 8,
     "metadata": {},
     "output_type": "execute_result"
    }
   ],
   "source": [
    "from sklearn.preprocessing import MinMaxScaler\n",
    "\n",
    "feature_cols = [col for col in train_df.columns if col.startswith(\"op_setting_\") or col.startswith(\"sensor_\")]\n",
    "\n",
    "scaler = MinMaxScaler(feature_range=(0, 1))\n",
    "train_df[feature_cols] = scaler.fit_transform(train_df[feature_cols])\n",
    "\n",
    "print(train_df.head())\n",
    "\n",
    "import joblib\n",
    "\n",
    "joblib.dump(scaler, 'scaler.pkl')\n"
   ]
  },
  {
   "cell_type": "markdown",
   "id": "5089f06b-64df-403a-a8a6-97236711217d",
   "metadata": {},
   "source": [
    "## 3. Engineer Features (Compute RUL and Rolling Statistics)"
   ]
  },
  {
   "cell_type": "code",
   "execution_count": 11,
   "id": "695ba606-0de5-42e4-9950-041b80587a94",
   "metadata": {},
   "outputs": [
    {
     "name": "stdout",
     "output_type": "stream",
     "text": [
      "   engine_id  cycle  RUL\n",
      "0          1      1  191\n",
      "1          1      2  190\n",
      "2          1      3  189\n",
      "3          1      4  188\n",
      "4          1      5  187\n",
      "5          1      6  186\n",
      "6          1      7  185\n",
      "7          1      8  184\n",
      "8          1      9  183\n",
      "9          1     10  182\n",
      "   engine_id  cycle  sensor_2  sensor_2_roll5\n",
      "0          1      1  0.183735        0.183735\n",
      "1          1      2  0.283133        0.233434\n",
      "2          1      3  0.343373        0.270080\n",
      "3          1      4  0.343373        0.288404\n",
      "4          1      5  0.349398        0.300602\n",
      "5          1      6  0.268072        0.317470\n",
      "6          1      7  0.382530        0.337349\n",
      "7          1      8  0.406627        0.350000\n",
      "8          1      9  0.274096        0.336145\n",
      "9          1     10  0.150602        0.296386\n"
     ]
    }
   ],
   "source": [
    "max_cycle_df = train_df.groupby(\"engine_id\")[\"cycle\"].max().reset_index()\n",
    "max_cycle_df.columns = [\"engine_id\", \"max_cycle\"]\n",
    "\n",
    "train_df = train_df.merge(max_cycle_df, on=\"engine_id\")\n",
    "\n",
    "train_df[\"RUL\"] = train_df[\"max_cycle\"] - train_df[\"cycle\"]\n",
    "\n",
    "train_df.drop(\"max_cycle\", axis=1, inplace=True)\n",
    "\n",
    "print(train_df[[\"engine_id\", \"cycle\", \"RUL\"]].head(10))\n",
    "\n",
    "train_df[\"sensor_2_roll5\"] = train_df.groupby(\"engine_id\")[\"sensor_2\"].rolling(window=5, min_periods=1).mean().reset_index(0, drop=True)\n",
    "\n",
    "print(train_df[[\"engine_id\", \"cycle\", \"sensor_2\", \"sensor_2_roll5\"]].head(10))\n"
   ]
  },
  {
   "cell_type": "markdown",
   "id": "aee417c2-8983-4431-8ddc-e4250565695a",
   "metadata": {},
   "source": [
    "## 4. Create Time-Series Sequences for LSTM"
   ]
  },
  {
   "cell_type": "code",
   "execution_count": 14,
   "id": "1f6b8fcf-72b2-4106-923b-2fd639ee5382",
   "metadata": {},
   "outputs": [
    {
     "name": "stdout",
     "output_type": "stream",
     "text": [
      "X shape: (17731, 30, 24)\n",
      "y shape: (17731,)\n"
     ]
    }
   ],
   "source": [
    "import numpy as np\n",
    "\n",
    "def create_sequences(data, window_size=30, step_size=1):\n",
    "    sequences = []\n",
    "    labels = []\n",
    "    for engine_id in data[\"engine_id\"].unique():\n",
    "        engine_data = data[data[\"engine_id\"] == engine_id].reset_index(drop=True)\n",
    "        for i in range(0, len(engine_data) - window_size + 1, step_size):\n",
    "            seq = engine_data.iloc[i:i+window_size][feature_cols].values  \n",
    "            label = engine_data.iloc[i+window_size-1][\"RUL\"]               \n",
    "            sequences.append(seq)\n",
    "            labels.append(label)\n",
    "    return np.array(sequences), np.array(labels)\n",
    "\n",
    "X, y = create_sequences(train_df, window_size=30)\n",
    "\n",
    "print(f\"X shape: {X.shape}\")\n",
    "print(f\"y shape: {y.shape}\")\n"
   ]
  },
  {
   "cell_type": "markdown",
   "id": "341dd44a-77c7-4298-a00f-e7c7081e98e1",
   "metadata": {},
   "source": [
    "## ** Phase 2: LSTM-based RUL Prediction with Attention Mechanism **"
   ]
  },
  {
   "cell_type": "markdown",
   "id": "d9188f35-8694-43a2-9363-5e4fb5a35236",
   "metadata": {},
   "source": [
    "## 1. Define the LSTM Model Architecture"
   ]
  },
  {
   "cell_type": "code",
   "execution_count": 18,
   "id": "3c795993-6b68-49b5-965e-1a2668ce1b38",
   "metadata": {},
   "outputs": [
    {
     "data": {
      "text/html": [
       "<pre style=\"white-space:pre;overflow-x:auto;line-height:normal;font-family:Menlo,'DejaVu Sans Mono',consolas,'Courier New',monospace\"><span style=\"font-weight: bold\">Model: \"functional\"</span>\n",
       "</pre>\n"
      ],
      "text/plain": [
       "\u001b[1mModel: \"functional\"\u001b[0m\n"
      ]
     },
     "metadata": {},
     "output_type": "display_data"
    },
    {
     "data": {
      "text/html": [
       "<pre style=\"white-space:pre;overflow-x:auto;line-height:normal;font-family:Menlo,'DejaVu Sans Mono',consolas,'Courier New',monospace\">┏━━━━━━━━━━━━━━━━━━━━━━━━━━━━━━━━━┳━━━━━━━━━━━━━━━━━━━━━━━━┳━━━━━━━━━━━━━━━┓\n",
       "┃<span style=\"font-weight: bold\"> Layer (type)                    </span>┃<span style=\"font-weight: bold\"> Output Shape           </span>┃<span style=\"font-weight: bold\">       Param # </span>┃\n",
       "┡━━━━━━━━━━━━━━━━━━━━━━━━━━━━━━━━━╇━━━━━━━━━━━━━━━━━━━━━━━━╇━━━━━━━━━━━━━━━┩\n",
       "│ input_layer (<span style=\"color: #0087ff; text-decoration-color: #0087ff\">InputLayer</span>)        │ (<span style=\"color: #00d7ff; text-decoration-color: #00d7ff\">None</span>, <span style=\"color: #00af00; text-decoration-color: #00af00\">30</span>, <span style=\"color: #00af00; text-decoration-color: #00af00\">24</span>)         │             <span style=\"color: #00af00; text-decoration-color: #00af00\">0</span> │\n",
       "├─────────────────────────────────┼────────────────────────┼───────────────┤\n",
       "│ lstm (<span style=\"color: #0087ff; text-decoration-color: #0087ff\">LSTM</span>)                     │ (<span style=\"color: #00d7ff; text-decoration-color: #00d7ff\">None</span>, <span style=\"color: #00af00; text-decoration-color: #00af00\">30</span>, <span style=\"color: #00af00; text-decoration-color: #00af00\">64</span>)         │        <span style=\"color: #00af00; text-decoration-color: #00af00\">22,784</span> │\n",
       "├─────────────────────────────────┼────────────────────────┼───────────────┤\n",
       "│ lstm_1 (<span style=\"color: #0087ff; text-decoration-color: #0087ff\">LSTM</span>)                   │ (<span style=\"color: #00d7ff; text-decoration-color: #00d7ff\">None</span>, <span style=\"color: #00af00; text-decoration-color: #00af00\">30</span>, <span style=\"color: #00af00; text-decoration-color: #00af00\">32</span>)         │        <span style=\"color: #00af00; text-decoration-color: #00af00\">12,416</span> │\n",
       "├─────────────────────────────────┼────────────────────────┼───────────────┤\n",
       "│ attention_layer                 │ (<span style=\"color: #00d7ff; text-decoration-color: #00d7ff\">None</span>, <span style=\"color: #00af00; text-decoration-color: #00af00\">32</span>)             │            <span style=\"color: #00af00; text-decoration-color: #00af00\">62</span> │\n",
       "│ (<span style=\"color: #0087ff; text-decoration-color: #0087ff\">AttentionLayer</span>)                │                        │               │\n",
       "├─────────────────────────────────┼────────────────────────┼───────────────┤\n",
       "│ dense (<span style=\"color: #0087ff; text-decoration-color: #0087ff\">Dense</span>)                   │ (<span style=\"color: #00d7ff; text-decoration-color: #00d7ff\">None</span>, <span style=\"color: #00af00; text-decoration-color: #00af00\">1</span>)              │            <span style=\"color: #00af00; text-decoration-color: #00af00\">33</span> │\n",
       "└─────────────────────────────────┴────────────────────────┴───────────────┘\n",
       "</pre>\n"
      ],
      "text/plain": [
       "┏━━━━━━━━━━━━━━━━━━━━━━━━━━━━━━━━━┳━━━━━━━━━━━━━━━━━━━━━━━━┳━━━━━━━━━━━━━━━┓\n",
       "┃\u001b[1m \u001b[0m\u001b[1mLayer (type)                   \u001b[0m\u001b[1m \u001b[0m┃\u001b[1m \u001b[0m\u001b[1mOutput Shape          \u001b[0m\u001b[1m \u001b[0m┃\u001b[1m \u001b[0m\u001b[1m      Param #\u001b[0m\u001b[1m \u001b[0m┃\n",
       "┡━━━━━━━━━━━━━━━━━━━━━━━━━━━━━━━━━╇━━━━━━━━━━━━━━━━━━━━━━━━╇━━━━━━━━━━━━━━━┩\n",
       "│ input_layer (\u001b[38;5;33mInputLayer\u001b[0m)        │ (\u001b[38;5;45mNone\u001b[0m, \u001b[38;5;34m30\u001b[0m, \u001b[38;5;34m24\u001b[0m)         │             \u001b[38;5;34m0\u001b[0m │\n",
       "├─────────────────────────────────┼────────────────────────┼───────────────┤\n",
       "│ lstm (\u001b[38;5;33mLSTM\u001b[0m)                     │ (\u001b[38;5;45mNone\u001b[0m, \u001b[38;5;34m30\u001b[0m, \u001b[38;5;34m64\u001b[0m)         │        \u001b[38;5;34m22,784\u001b[0m │\n",
       "├─────────────────────────────────┼────────────────────────┼───────────────┤\n",
       "│ lstm_1 (\u001b[38;5;33mLSTM\u001b[0m)                   │ (\u001b[38;5;45mNone\u001b[0m, \u001b[38;5;34m30\u001b[0m, \u001b[38;5;34m32\u001b[0m)         │        \u001b[38;5;34m12,416\u001b[0m │\n",
       "├─────────────────────────────────┼────────────────────────┼───────────────┤\n",
       "│ attention_layer                 │ (\u001b[38;5;45mNone\u001b[0m, \u001b[38;5;34m32\u001b[0m)             │            \u001b[38;5;34m62\u001b[0m │\n",
       "│ (\u001b[38;5;33mAttentionLayer\u001b[0m)                │                        │               │\n",
       "├─────────────────────────────────┼────────────────────────┼───────────────┤\n",
       "│ dense (\u001b[38;5;33mDense\u001b[0m)                   │ (\u001b[38;5;45mNone\u001b[0m, \u001b[38;5;34m1\u001b[0m)              │            \u001b[38;5;34m33\u001b[0m │\n",
       "└─────────────────────────────────┴────────────────────────┴───────────────┘\n"
      ]
     },
     "metadata": {},
     "output_type": "display_data"
    },
    {
     "data": {
      "text/html": [
       "<pre style=\"white-space:pre;overflow-x:auto;line-height:normal;font-family:Menlo,'DejaVu Sans Mono',consolas,'Courier New',monospace\"><span style=\"font-weight: bold\"> Total params: </span><span style=\"color: #00af00; text-decoration-color: #00af00\">35,295</span> (137.87 KB)\n",
       "</pre>\n"
      ],
      "text/plain": [
       "\u001b[1m Total params: \u001b[0m\u001b[38;5;34m35,295\u001b[0m (137.87 KB)\n"
      ]
     },
     "metadata": {},
     "output_type": "display_data"
    },
    {
     "data": {
      "text/html": [
       "<pre style=\"white-space:pre;overflow-x:auto;line-height:normal;font-family:Menlo,'DejaVu Sans Mono',consolas,'Courier New',monospace\"><span style=\"font-weight: bold\"> Trainable params: </span><span style=\"color: #00af00; text-decoration-color: #00af00\">35,295</span> (137.87 KB)\n",
       "</pre>\n"
      ],
      "text/plain": [
       "\u001b[1m Trainable params: \u001b[0m\u001b[38;5;34m35,295\u001b[0m (137.87 KB)\n"
      ]
     },
     "metadata": {},
     "output_type": "display_data"
    },
    {
     "data": {
      "text/html": [
       "<pre style=\"white-space:pre;overflow-x:auto;line-height:normal;font-family:Menlo,'DejaVu Sans Mono',consolas,'Courier New',monospace\"><span style=\"font-weight: bold\"> Non-trainable params: </span><span style=\"color: #00af00; text-decoration-color: #00af00\">0</span> (0.00 B)\n",
       "</pre>\n"
      ],
      "text/plain": [
       "\u001b[1m Non-trainable params: \u001b[0m\u001b[38;5;34m0\u001b[0m (0.00 B)\n"
      ]
     },
     "metadata": {},
     "output_type": "display_data"
    }
   ],
   "source": [
    "import tensorflow as tf\n",
    "from tensorflow.keras import layers, models, backend as K\n",
    "\n",
    "class AttentionLayer(layers.Layer):\n",
    "    def __init__(self, **kwargs):\n",
    "        super(AttentionLayer, self).__init__(**kwargs)\n",
    "    \n",
    "    def build(self, input_shape):\n",
    "        self.W = self.add_weight(name=\"att_weight\", shape=(input_shape[-1], 1),\n",
    "                                 initializer=\"normal\")\n",
    "        self.b = self.add_weight(name=\"att_bias\", shape=(input_shape[1], 1),\n",
    "                                 initializer=\"zeros\")\n",
    "        super(AttentionLayer, self).build(input_shape)\n",
    "    \n",
    "    def call(self, inputs):\n",
    "        e = K.tanh(K.dot(inputs, self.W) + self.b)  \n",
    "        e = K.squeeze(e, axis=-1)  \n",
    "        alpha = K.softmax(e)  \n",
    "        alpha_expanded = K.expand_dims(alpha, axis=-1)  \n",
    "        context_vector = inputs * alpha_expanded  \n",
    "        context_vector = K.sum(context_vector, axis=1)  \n",
    "        return context_vector\n",
    "\n",
    "time_steps = X.shape[1]  \n",
    "num_features = X.shape[2]  \n",
    "\n",
    "inputs = layers.Input(shape=(time_steps, num_features))\n",
    "x = layers.LSTM(64, return_sequences=True)(inputs)\n",
    "x = layers.LSTM(32, return_sequences=True)(x)\n",
    "context = AttentionLayer()(x)\n",
    "outputs = layers.Dense(1, activation=\"linear\")(context)\n",
    "\n",
    "lstm_attention_model = models.Model(inputs=inputs, outputs=outputs)\n",
    "lstm_attention_model.summary()\n"
   ]
  },
  {
   "cell_type": "markdown",
   "id": "dacf23fd-6bf6-4e1a-81ed-012a44e5513d",
   "metadata": {},
   "source": [
    "## 2. Compile the Model with MSE Loss"
   ]
  },
  {
   "cell_type": "code",
   "execution_count": 21,
   "id": "94752d64-3501-4978-acca-36d9f9787aa0",
   "metadata": {},
   "outputs": [],
   "source": [
    "lstm_attention_model.compile(\n",
    "    optimizer=tf.keras.optimizers.Adam(learning_rate=0.001),\n",
    "    loss=\"mse\",\n",
    "    metrics=[\"mae\"]\n",
    ")\n"
   ]
  },
  {
   "cell_type": "markdown",
   "id": "03b2e753-3d54-4f97-b74a-d2f5be68c9d9",
   "metadata": {},
   "source": [
    "## 3. Train the Model"
   ]
  },
  {
   "cell_type": "code",
   "execution_count": null,
   "id": "a05cf1f5-de25-437a-8b63-e6f30abc76f1",
   "metadata": {},
   "outputs": [
    {
     "name": "stdout",
     "output_type": "stream",
     "text": [
      "Epoch 1/50\n",
      "\u001b[1m222/222\u001b[0m \u001b[32m━━━━━━━━━━━━━━━━━━━━\u001b[0m\u001b[37m\u001b[0m \u001b[1m4s\u001b[0m 15ms/step - loss: 11221.0127 - mae: 86.6416 - val_loss: 9882.4834 - val_mae: 79.2819\n",
      "Epoch 2/50\n",
      "\u001b[1m222/222\u001b[0m \u001b[32m━━━━━━━━━━━━━━━━━━━━\u001b[0m\u001b[37m\u001b[0m \u001b[1m3s\u001b[0m 15ms/step - loss: 9522.2979 - mae: 77.5294 - val_loss: 8801.2998 - val_mae: 73.6069\n",
      "Epoch 3/50\n",
      "\u001b[1m222/222\u001b[0m \u001b[32m━━━━━━━━━━━━━━━━━━━━\u001b[0m\u001b[37m\u001b[0m \u001b[1m3s\u001b[0m 15ms/step - loss: 8696.5459 - mae: 73.0901 - val_loss: 7896.1025 - val_mae: 68.8842\n",
      "Epoch 4/50\n",
      "\u001b[1m222/222\u001b[0m \u001b[32m━━━━━━━━━━━━━━━━━━━━\u001b[0m\u001b[37m\u001b[0m \u001b[1m3s\u001b[0m 15ms/step - loss: 7895.8779 - mae: 69.0761 - val_loss: 7123.8477 - val_mae: 64.9191\n",
      "Epoch 5/50\n",
      "\u001b[1m222/222\u001b[0m \u001b[32m━━━━━━━━━━━━━━━━━━━━\u001b[0m\u001b[37m\u001b[0m \u001b[1m3s\u001b[0m 15ms/step - loss: 7074.8457 - mae: 64.9700 - val_loss: 6468.0957 - val_mae: 61.6011\n",
      "Epoch 6/50\n",
      "\u001b[1m222/222\u001b[0m \u001b[32m━━━━━━━━━━━━━━━━━━━━\u001b[0m\u001b[37m\u001b[0m \u001b[1m3s\u001b[0m 15ms/step - loss: 6344.0391 - mae: 61.3751 - val_loss: 5913.9341 - val_mae: 58.8420\n",
      "Epoch 7/50\n",
      "\u001b[1m222/222\u001b[0m \u001b[32m━━━━━━━━━━━━━━━━━━━━\u001b[0m\u001b[37m\u001b[0m \u001b[1m3s\u001b[0m 15ms/step - loss: 5851.9941 - mae: 58.9768 - val_loss: 5448.5605 - val_mae: 56.5861\n",
      "Epoch 8/50\n",
      "\u001b[1m222/222\u001b[0m \u001b[32m━━━━━━━━━━━━━━━━━━━━\u001b[0m\u001b[37m\u001b[0m \u001b[1m3s\u001b[0m 15ms/step - loss: 5282.4937 - mae: 56.0511 - val_loss: 5065.6294 - val_mae: 54.7811\n",
      "Epoch 9/50\n",
      "\u001b[1m222/222\u001b[0m \u001b[32m━━━━━━━━━━━━━━━━━━━━\u001b[0m\u001b[37m\u001b[0m \u001b[1m3s\u001b[0m 15ms/step - loss: 5022.0391 - mae: 55.0171 - val_loss: 4753.0635 - val_mae: 53.3521\n",
      "Epoch 10/50\n",
      "\u001b[1m222/222\u001b[0m \u001b[32m━━━━━━━━━━━━━━━━━━━━\u001b[0m\u001b[37m\u001b[0m \u001b[1m3s\u001b[0m 15ms/step - loss: 4723.3389 - mae: 53.5678 - val_loss: 4502.5112 - val_mae: 52.2561\n",
      "Epoch 11/50\n",
      "\u001b[1m222/222\u001b[0m \u001b[32m━━━━━━━━━━━━━━━━━━━━\u001b[0m\u001b[37m\u001b[0m \u001b[1m3s\u001b[0m 15ms/step - loss: 4473.3369 - mae: 52.5511 - val_loss: 4306.0903 - val_mae: 51.4542\n",
      "Epoch 12/50\n",
      "\u001b[1m222/222\u001b[0m \u001b[32m━━━━━━━━━━━━━━━━━━━━\u001b[0m\u001b[37m\u001b[0m \u001b[1m3s\u001b[0m 15ms/step - loss: 4313.5332 - mae: 51.9172 - val_loss: 4155.5396 - val_mae: 50.8798\n",
      "Epoch 13/50\n",
      "\u001b[1m222/222\u001b[0m \u001b[32m━━━━━━━━━━━━━━━━━━━━\u001b[0m\u001b[37m\u001b[0m \u001b[1m3s\u001b[0m 15ms/step - loss: 4189.6221 - mae: 51.5120 - val_loss: 4044.7986 - val_mae: 50.5174\n",
      "Epoch 14/50\n",
      "\u001b[1m222/222\u001b[0m \u001b[32m━━━━━━━━━━━━━━━━━━━━\u001b[0m\u001b[37m\u001b[0m \u001b[1m3s\u001b[0m 15ms/step - loss: 4083.0591 - mae: 50.8745 - val_loss: 3964.0437 - val_mae: 50.3059\n",
      "Epoch 15/50\n",
      "\u001b[1m222/222\u001b[0m \u001b[32m━━━━━━━━━━━━━━━━━━━━\u001b[0m\u001b[37m\u001b[0m \u001b[1m3s\u001b[0m 15ms/step - loss: 3962.1807 - mae: 50.3707 - val_loss: 3909.0129 - val_mae: 50.2030\n",
      "Epoch 16/50\n",
      "\u001b[1m222/222\u001b[0m \u001b[32m━━━━━━━━━━━━━━━━━━━━\u001b[0m\u001b[37m\u001b[0m \u001b[1m3s\u001b[0m 15ms/step - loss: 3924.2615 - mae: 50.6899 - val_loss: 3872.6055 - val_mae: 50.1804\n",
      "Epoch 17/50\n",
      "\u001b[1m222/222\u001b[0m \u001b[32m━━━━━━━━━━━━━━━━━━━━\u001b[0m\u001b[37m\u001b[0m \u001b[1m3s\u001b[0m 15ms/step - loss: 3938.9929 - mae: 50.5822 - val_loss: 3837.8196 - val_mae: 50.1035\n",
      "Epoch 18/50\n",
      "\u001b[1m222/222\u001b[0m \u001b[32m━━━━━━━━━━━━━━━━━━━━\u001b[0m\u001b[37m\u001b[0m \u001b[1m3s\u001b[0m 15ms/step - loss: 3878.1614 - mae: 50.3700 - val_loss: 3819.7712 - val_mae: 50.1283\n",
      "Epoch 19/50\n",
      "\u001b[1m222/222\u001b[0m \u001b[32m━━━━━━━━━━━━━━━━━━━━\u001b[0m\u001b[37m\u001b[0m \u001b[1m3s\u001b[0m 15ms/step - loss: 3916.2832 - mae: 50.9032 - val_loss: 3807.4023 - val_mae: 50.1491\n",
      "Epoch 20/50\n",
      "\u001b[1m222/222\u001b[0m \u001b[32m━━━━━━━━━━━━━━━━━━━━\u001b[0m\u001b[37m\u001b[0m \u001b[1m3s\u001b[0m 15ms/step - loss: 3282.9641 - mae: 44.2642 - val_loss: 2409.7085 - val_mae: 34.0731\n",
      "Epoch 21/50\n",
      "\u001b[1m222/222\u001b[0m \u001b[32m━━━━━━━━━━━━━━━━━━━━\u001b[0m\u001b[37m\u001b[0m \u001b[1m3s\u001b[0m 15ms/step - loss: 2277.1223 - mae: 33.0194 - val_loss: 2053.1179 - val_mae: 30.1834\n",
      "Epoch 22/50\n",
      "\u001b[1m222/222\u001b[0m \u001b[32m━━━━━━━━━━━━━━━━━━━━\u001b[0m\u001b[37m\u001b[0m \u001b[1m3s\u001b[0m 15ms/step - loss: 1957.1740 - mae: 29.2044 - val_loss: 1810.3687 - val_mae: 27.6999\n",
      "Epoch 23/50\n",
      "\u001b[1m222/222\u001b[0m \u001b[32m━━━━━━━━━━━━━━━━━━━━\u001b[0m\u001b[37m\u001b[0m \u001b[1m3s\u001b[0m 15ms/step - loss: 1787.7509 - mae: 27.2995 - val_loss: 1616.8759 - val_mae: 25.7653\n",
      "Epoch 24/50\n",
      "\u001b[1m222/222\u001b[0m \u001b[32m━━━━━━━━━━━━━━━━━━━━\u001b[0m\u001b[37m\u001b[0m \u001b[1m3s\u001b[0m 15ms/step - loss: 1606.5548 - mae: 25.4690 - val_loss: 1469.3251 - val_mae: 24.5707\n",
      "Epoch 25/50\n",
      "\u001b[1m222/222\u001b[0m \u001b[32m━━━━━━━━━━━━━━━━━━━━\u001b[0m\u001b[37m\u001b[0m \u001b[1m3s\u001b[0m 15ms/step - loss: 1485.4924 - mae: 24.4272 - val_loss: 1383.2494 - val_mae: 24.1686\n",
      "Epoch 26/50\n",
      "\u001b[1m222/222\u001b[0m \u001b[32m━━━━━━━━━━━━━━━━━━━━\u001b[0m\u001b[37m\u001b[0m \u001b[1m3s\u001b[0m 15ms/step - loss: 1362.0602 - mae: 23.4224 - val_loss: 1268.3162 - val_mae: 22.7555\n",
      "Epoch 27/50\n",
      "\u001b[1m222/222\u001b[0m \u001b[32m━━━━━━━━━━━━━━━━━━━━\u001b[0m\u001b[37m\u001b[0m \u001b[1m3s\u001b[0m 14ms/step - loss: 1390.0670 - mae: 23.8379 - val_loss: 1279.9637 - val_mae: 22.4465\n",
      "Epoch 28/50\n",
      "\u001b[1m222/222\u001b[0m \u001b[32m━━━━━━━━━━━━━━━━━━━━\u001b[0m\u001b[37m\u001b[0m \u001b[1m3s\u001b[0m 15ms/step - loss: 1235.2466 - mae: 22.3821 - val_loss: 1198.3618 - val_mae: 23.0300\n",
      "Epoch 29/50\n",
      "\u001b[1m222/222\u001b[0m \u001b[32m━━━━━━━━━━━━━━━━━━━━\u001b[0m\u001b[37m\u001b[0m \u001b[1m3s\u001b[0m 15ms/step - loss: 1134.8806 - mae: 21.7947 - val_loss: 1130.2015 - val_mae: 22.0480\n",
      "Epoch 30/50\n",
      "\u001b[1m222/222\u001b[0m \u001b[32m━━━━━━━━━━━━━━━━━━━━\u001b[0m\u001b[37m\u001b[0m \u001b[1m3s\u001b[0m 15ms/step - loss: 1079.0281 - mae: 21.0850 - val_loss: 1072.4955 - val_mae: 21.3577\n",
      "Epoch 31/50\n",
      "\u001b[1m222/222\u001b[0m \u001b[32m━━━━━━━━━━━━━━━━━━━━\u001b[0m\u001b[37m\u001b[0m \u001b[1m3s\u001b[0m 15ms/step - loss: 1077.3497 - mae: 21.1031 - val_loss: 1095.3954 - val_mae: 22.2571\n",
      "Epoch 32/50\n",
      "\u001b[1m222/222\u001b[0m \u001b[32m━━━━━━━━━━━━━━━━━━━━\u001b[0m\u001b[37m\u001b[0m \u001b[1m3s\u001b[0m 15ms/step - loss: 1077.5073 - mae: 21.1604 - val_loss: 1039.2576 - val_mae: 20.3896\n",
      "Epoch 33/50\n",
      "\u001b[1m222/222\u001b[0m \u001b[32m━━━━━━━━━━━━━━━━━━━━\u001b[0m\u001b[37m\u001b[0m \u001b[1m3s\u001b[0m 15ms/step - loss: 1025.7501 - mae: 20.9073 - val_loss: 1028.7317 - val_mae: 21.4825\n",
      "Epoch 34/50\n",
      "\u001b[1m222/222\u001b[0m \u001b[32m━━━━━━━━━━━━━━━━━━━━\u001b[0m\u001b[37m\u001b[0m \u001b[1m3s\u001b[0m 15ms/step - loss: 1007.1783 - mae: 20.6684 - val_loss: 985.3485 - val_mae: 20.4174\n",
      "Epoch 35/50\n",
      "\u001b[1m222/222\u001b[0m \u001b[32m━━━━━━━━━━━━━━━━━━━━\u001b[0m\u001b[37m\u001b[0m \u001b[1m3s\u001b[0m 15ms/step - loss: 930.5160 - mae: 19.7907 - val_loss: 1049.8964 - val_mae: 22.7169\n",
      "Epoch 36/50\n",
      "\u001b[1m222/222\u001b[0m \u001b[32m━━━━━━━━━━━━━━━━━━━━\u001b[0m\u001b[37m\u001b[0m \u001b[1m3s\u001b[0m 14ms/step - loss: 1008.1483 - mae: 20.9769 - val_loss: 937.6426 - val_mae: 20.1146\n",
      "Epoch 37/50\n",
      "\u001b[1m222/222\u001b[0m \u001b[32m━━━━━━━━━━━━━━━━━━━━\u001b[0m\u001b[37m\u001b[0m \u001b[1m3s\u001b[0m 15ms/step - loss: 953.0203 - mae: 20.2511 - val_loss: 923.9473 - val_mae: 20.1935\n",
      "Epoch 38/50\n",
      "\u001b[1m222/222\u001b[0m \u001b[32m━━━━━━━━━━━━━━━━━━━━\u001b[0m\u001b[37m\u001b[0m \u001b[1m3s\u001b[0m 14ms/step - loss: 982.6521 - mae: 20.5544 - val_loss: 926.6212 - val_mae: 20.4952\n",
      "Epoch 39/50\n",
      "\u001b[1m222/222\u001b[0m \u001b[32m━━━━━━━━━━━━━━━━━━━━\u001b[0m\u001b[37m\u001b[0m \u001b[1m3s\u001b[0m 14ms/step - loss: 911.9839 - mae: 19.8155 - val_loss: 902.7067 - val_mae: 19.5027\n",
      "Epoch 40/50\n",
      "\u001b[1m222/222\u001b[0m \u001b[32m━━━━━━━━━━━━━━━━━━━━\u001b[0m\u001b[37m\u001b[0m \u001b[1m3s\u001b[0m 15ms/step - loss: 928.3398 - mae: 19.7292 - val_loss: 893.3846 - val_mae: 19.5476\n",
      "Epoch 41/50\n",
      "\u001b[1m222/222\u001b[0m \u001b[32m━━━━━━━━━━━━━━━━━━━━\u001b[0m\u001b[37m\u001b[0m \u001b[1m3s\u001b[0m 15ms/step - loss: 892.5204 - mae: 19.5234 - val_loss: 893.4430 - val_mae: 20.0620\n",
      "Epoch 42/50\n",
      "\u001b[1m222/222\u001b[0m \u001b[32m━━━━━━━━━━━━━━━━━━━━\u001b[0m\u001b[37m\u001b[0m \u001b[1m3s\u001b[0m 15ms/step - loss: 892.0140 - mae: 19.7889 - val_loss: 901.4296 - val_mae: 19.8906\n",
      "Epoch 43/50\n",
      "\u001b[1m222/222\u001b[0m \u001b[32m━━━━━━━━━━━━━━━━━━━━\u001b[0m\u001b[37m\u001b[0m \u001b[1m3s\u001b[0m 15ms/step - loss: 917.2599 - mae: 20.0729 - val_loss: 893.6221 - val_mae: 19.2106\n",
      "Epoch 44/50\n",
      "\u001b[1m117/222\u001b[0m \u001b[32m━━━━━━━━━━\u001b[0m\u001b[37m━━━━━━━━━━\u001b[0m \u001b[1m1s\u001b[0m 14ms/step - loss: 903.2038 - mae: 19.8026"
     ]
    }
   ],
   "source": [
    "from tensorflow.keras.callbacks import EarlyStopping\n",
    "\n",
    "from sklearn.model_selection import train_test_split\n",
    "X_train, X_val, y_train, y_val = train_test_split(X, y, test_size=0.2, random_state=42)\n",
    "\n",
    "early_stop = EarlyStopping(monitor=\"val_loss\", patience=5, restore_best_weights=True)\n",
    "\n",
    "history = lstm_attention_model.fit(\n",
    "    X_train, y_train,\n",
    "    validation_data=(X_val, y_val),\n",
    "    epochs=50,\n",
    "    batch_size=64,\n",
    "    callbacks=[early_stop]\n",
    ")\n"
   ]
  },
  {
   "cell_type": "markdown",
   "id": "fd930359-13ca-47fb-9d01-11679e93dd57",
   "metadata": {},
   "source": [
    "## 4. Evaluate Model Performance and Visualize Learning Curves"
   ]
  },
  {
   "cell_type": "code",
   "execution_count": 20,
   "id": "a0ae2769-f501-4814-86f7-1ea3e54bc2c8",
   "metadata": {},
   "outputs": [
    {
     "data": {
      "image/png": "[encoded data removed]",
      "text/plain": [
       "<Figure size 1000x400 with 1 Axes>"
      ]
     },
     "metadata": {},
     "output_type": "display_data"
    },
    {
     "data": {
      "image/png": "[encoded data removed]",
      "text/plain": [
       "<Figure size 1000x400 with 1 Axes>"
      ]
     },
     "metadata": {},
     "output_type": "display_data"
    },
    {
     "name": "stdout",
     "output_type": "stream",
     "text": [
      "Validation Loss (MSE): 794.3171, Validation MAE: 18.5467\n"
     ]
    }
   ],
   "source": [
    "import matplotlib.pyplot as plt\n",
    "\n",
    "plt.figure(figsize=(10, 4))\n",
    "plt.plot(history.history[\"loss\"], label=\"Train Loss (MSE)\")\n",
    "plt.plot(history.history[\"val_loss\"], label=\"Validation Loss (MSE)\")\n",
    "plt.title(\"Model Loss During Training\")\n",
    "plt.xlabel(\"Epoch\")\n",
    "plt.ylabel(\"MSE Loss\")\n",
    "plt.legend()\n",
    "plt.show()\n",
    "\n",
    "plt.figure(figsize=(10, 4))\n",
    "plt.plot(history.history[\"mae\"], label=\"Train MAE\")\n",
    "plt.plot(history.history[\"val_mae\"], label=\"Validation MAE\")\n",
    "plt.title(\"Model MAE During Training\")\n",
    "plt.xlabel(\"Epoch\")\n",
    "plt.ylabel(\"Mean Absolute Error\")\n",
    "plt.legend()\n",
    "plt.show()\n",
    "\n",
    "val_loss, val_mae = lstm_attention_model.evaluate(X_val, y_val, verbose=0)\n",
    "print(f\"Validation Loss (MSE): {val_loss:.4f}, Validation MAE: {val_mae:.4f}\")\n",
    "\n",
    "from sklearn.metrics import r2_score\n",
    "\n",
    "y_pred = lstm_attention_model.predict(X_val).flatten()\n",
    "\n",
    "r2 = r2_score(y_val, y_pred)\n",
    "print(\"R² score:\", r2)"
   ]
  },
  {
   "cell_type": "markdown",
   "id": "47b9c8ca-d9a9-489a-943b-992a77e984aa",
   "metadata": {},
   "source": [
    "## 5. Save the Trained LSTM-Attention Model\n"
   ]
  },
  {
   "cell_type": "code",
   "execution_count": 22,
   "id": "61767a61-92bb-4582-82fe-18f46d2d8085",
   "metadata": {},
   "outputs": [
    {
     "name": "stderr",
     "output_type": "stream",
     "text": [
      "WARNING:absl:You are saving your model as an HDF5 file via `model.save()` or `keras.saving.save_model(model)`. This file format is considered legacy. We recommend using instead the native Keras format, e.g. `model.save('my_model.keras')` or `keras.saving.save_model(model, 'my_model.keras')`. \n"
     ]
    }
   ],
   "source": [
    "lstm_attention_model.save(\"lstm_rul_model.h5\")"
   ]
  },
  {
   "cell_type": "markdown",
   "id": "a4396a8c-88dd-446d-a271-09766fd07685",
   "metadata": {},
   "source": [
    "# Phase 3: Reinforcement Learning for Maintenance Optimization (PPO)"
   ]
  },
  {
   "cell_type": "markdown",
   "id": "7e8e83e2-f85b-4d2c-8794-d0bf2def4c58",
   "metadata": {},
   "source": [
    "## 1. Define the Custom RL Environment"
   ]
  },
  {
   "cell_type": "code",
   "execution_count": 25,
   "id": "9988d20b-7367-44bf-b7c0-eda51c90c9e5",
   "metadata": {},
   "outputs": [
    {
     "name": "stdout",
     "output_type": "stream",
     "text": [
      "Requirement already satisfied: gym in /opt/anaconda3/lib/python3.11/site-packages (0.26.2)\n",
      "Requirement already satisfied: numpy>=1.18.0 in /opt/anaconda3/lib/python3.11/site-packages (from gym) (1.26.4)\n",
      "Requirement already satisfied: cloudpickle>=1.2.0 in /opt/anaconda3/lib/python3.11/site-packages (from gym) (2.2.1)\n",
      "Requirement already satisfied: gym_notices>=0.0.4 in /opt/anaconda3/lib/python3.11/site-packages (from gym) (0.0.8)\n"
     ]
    }
   ],
   "source": [
    "!pip install gym"
   ]
  },
  {
   "cell_type": "code",
   "execution_count": 26,
   "id": "b9b81e98-135d-4932-980d-ba4d000063ee",
   "metadata": {},
   "outputs": [],
   "source": [
    "import gym\n",
    "from gym import spaces\n",
    "import numpy as np\n",
    "from gym.utils import seeding  \n",
    "\n",
    "class MaintenanceEnv(gym.Env):\n",
    "    def __init__(self, initial_rul=1.0, repair_cost=5.0, failure_penalty=100.0, degrade_rate=0.01, max_cycles=300):\n",
    "        super(MaintenanceEnv, self).__init__()\n",
    "        self.initial_rul = initial_rul\n",
    "        self.repair_cost = repair_cost\n",
    "        self.failure_penalty = failure_penalty\n",
    "        self.degrade_rate = degrade_rate\n",
    "        self.max_cycles = max_cycles\n",
    "        \n",
    "        self.action_space = spaces.Discrete(2)  \n",
    "        self.observation_space = spaces.Box(low=0.0, high=1.0, shape=(1,), dtype=np.float32)\n",
    "        self.seed()  \n",
    "        self.reset()\n",
    "\n",
    "    def seed(self, seed=None):\n",
    "        self.np_random, seed = seeding.np_random(seed)\n",
    "        return [seed]\n",
    "\n",
    "    def step(self, action):\n",
    "        done = False\n",
    "        reward = 0.0\n",
    "        \n",
    "        if action == 1:\n",
    "            reward -= self.repair_cost\n",
    "            self.current_rul = self.initial_rul\n",
    "        else:\n",
    "            self.current_rul -= self.degrade_rate\n",
    "\n",
    "        self.current_cycle += 1\n",
    "        \n",
    "        if self.current_rul <= 0:\n",
    "            reward -= self.failure_penalty\n",
    "            self.current_rul = 0.0\n",
    "            done = True\n",
    "\n",
    "        if self.current_cycle >= self.max_cycles:\n",
    "            done = True\n",
    "        \n",
    "        if not done:\n",
    "            reward += 1.0\n",
    "        \n",
    "        next_state = np.array([self.current_rul], dtype=np.float32)\n",
    "        return next_state, reward, done, {}\n",
    "\n",
    "    def reset(self):\n",
    "        self.current_cycle = 0\n",
    "        self.current_rul = self.initial_rul\n",
    "        return np.array([self.current_rul], dtype=np.float32)\n",
    "    \n",
    "    def render(self, mode=\"human\"):\n",
    "        print(f\"Cycle: {self.current_cycle}, RUL: {self.current_rul:.2f}\")\n"
   ]
  },
  {
   "cell_type": "markdown",
   "id": "66975dea-573b-469a-b821-a72ae457480e",
   "metadata": {},
   "source": [
    "## 2. Initialize and Confugure the PPO Agent"
   ]
  },
  {
   "cell_type": "code",
   "execution_count": 28,
   "id": "75fe80a7-7b69-4b7a-aad3-4323e13d3157",
   "metadata": {},
   "outputs": [
    {
     "name": "stdout",
     "output_type": "stream",
     "text": [
      "Requirement already satisfied: shimmy>=2.0 in /opt/anaconda3/lib/python3.11/site-packages (2.0.0)\n",
      "Requirement already satisfied: numpy>=1.18.0 in /opt/anaconda3/lib/python3.11/site-packages (from shimmy>=2.0) (1.26.4)\n",
      "Requirement already satisfied: gymnasium>=1.0.0a1 in /opt/anaconda3/lib/python3.11/site-packages (from shimmy>=2.0) (1.0.0)\n",
      "Requirement already satisfied: cloudpickle>=1.2.0 in /opt/anaconda3/lib/python3.11/site-packages (from gymnasium>=1.0.0a1->shimmy>=2.0) (2.2.1)\n",
      "Requirement already satisfied: typing-extensions>=4.3.0 in /opt/anaconda3/lib/python3.11/site-packages (from gymnasium>=1.0.0a1->shimmy>=2.0) (4.12.2)\n",
      "Requirement already satisfied: farama-notifications>=0.0.1 in /opt/anaconda3/lib/python3.11/site-packages (from gymnasium>=1.0.0a1->shimmy>=2.0) (0.0.4)\n"
     ]
    }
   ],
   "source": [
    "!pip install \"shimmy>=2.0\""
   ]
  },
  {
   "cell_type": "code",
   "execution_count": 29,
   "id": "f4b44db7-4813-4b1b-a4d8-7d6bc7386f50",
   "metadata": {},
   "outputs": [
    {
     "name": "stderr",
     "output_type": "stream",
     "text": [
      "/opt/anaconda3/lib/python3.11/site-packages/stable_baselines3/common/vec_env/patch_gym.py:49: UserWarning: You provided an OpenAI Gym environment. We strongly recommend transitioning to Gymnasium environments. Stable-Baselines3 is automatically wrapping your environments in a compatibility layer, which could potentially cause issues.\n",
      "  warnings.warn(\n"
     ]
    },
    {
     "name": "stdout",
     "output_type": "stream",
     "text": [
      "Using cpu device\n"
     ]
    }
   ],
   "source": [
    "from stable_baselines3 import PPO\n",
    "from stable_baselines3.common.env_util import make_vec_env\n",
    "\n",
    "env = MaintenanceEnv()\n",
    "\n",
    "vec_env = make_vec_env(lambda: env, n_envs=4)\n",
    "\n",
    "ppo_agent = PPO(\"MlpPolicy\", vec_env, learning_rate=0.0003, gamma=0.99, verbose=1)\n"
   ]
  },
  {
   "cell_type": "markdown",
   "id": "5b22efba-ad65-4a57-94ba-ff2299000f56",
   "metadata": {},
   "source": [
    "## 3. Train the PPO Agent"
   ]
  },
  {
   "cell_type": "code",
   "execution_count": 31,
   "id": "1c0688f0-475c-498a-adc5-9c46bf278d31",
   "metadata": {},
   "outputs": [
    {
     "name": "stdout",
     "output_type": "stream",
     "text": [
      "---------------------------------\n",
      "| rollout/           |          |\n",
      "|    ep_len_mean     | 75       |\n",
      "|    ep_rew_mean     | -119     |\n",
      "| time/              |          |\n",
      "|    fps             | 20623    |\n",
      "|    iterations      | 1        |\n",
      "|    time_elapsed    | 0        |\n",
      "|    total_timesteps | 8192     |\n",
      "---------------------------------\n",
      "-----------------------------------------\n",
      "| rollout/                |             |\n",
      "|    ep_len_mean          | 75          |\n",
      "|    ep_rew_mean          | -97.4       |\n",
      "| time/                   |             |\n",
      "|    fps                  | 6827        |\n",
      "|    iterations           | 2           |\n",
      "|    time_elapsed         | 2           |\n",
      "|    total_timesteps      | 16384       |\n",
      "| train/                  |             |\n",
      "|    approx_kl            | 0.020479145 |\n",
      "|    clip_fraction        | 0.52        |\n",
      "|    clip_range           | 0.2         |\n",
      "|    entropy_loss         | -0.674      |\n",
      "|    explained_variance   | -3.58e-07   |\n",
      "|    learning_rate        | 0.0003      |\n",
      "|    loss                 | 38.5        |\n",
      "|    n_updates            | 10          |\n",
      "|    policy_gradient_loss | -0.058      |\n",
      "|    value_loss           | 175         |\n",
      "-----------------------------------------\n",
      "-----------------------------------------\n",
      "| rollout/                |             |\n",
      "|    ep_len_mean          | 75          |\n",
      "|    ep_rew_mean          | -77.5       |\n",
      "| time/                   |             |\n",
      "|    fps                  | 5707        |\n",
      "|    iterations           | 3           |\n",
      "|    time_elapsed         | 4           |\n",
      "|    total_timesteps      | 24576       |\n",
      "| train/                  |             |\n",
      "|    approx_kl            | 0.020693492 |\n",
      "|    clip_fraction        | 0.292       |\n",
      "|    clip_range           | 0.2         |\n",
      "|    entropy_loss         | -0.624      |\n",
      "|    explained_variance   | 1.39e-05    |\n",
      "|    learning_rate        | 0.0003      |\n",
      "|    loss                 | 32.2        |\n",
      "|    n_updates            | 20          |\n",
      "|    policy_gradient_loss | -0.0346     |\n",
      "|    value_loss           | 92.2        |\n",
      "-----------------------------------------\n",
      "-----------------------------------------\n",
      "| rollout/                |             |\n",
      "|    ep_len_mean          | 75          |\n",
      "|    ep_rew_mean          | -55         |\n",
      "| time/                   |             |\n",
      "|    fps                  | 5099        |\n",
      "|    iterations           | 4           |\n",
      "|    time_elapsed         | 6           |\n",
      "|    total_timesteps      | 32768       |\n",
      "| train/                  |             |\n",
      "|    approx_kl            | 0.014915677 |\n",
      "|    clip_fraction        | 0.287       |\n",
      "|    clip_range           | 0.2         |\n",
      "|    entropy_loss         | -0.523      |\n",
      "|    explained_variance   | -1.3e-05    |\n",
      "|    learning_rate        | 0.0003      |\n",
      "|    loss                 | 27.1        |\n",
      "|    n_updates            | 30          |\n",
      "|    policy_gradient_loss | -0.0329     |\n",
      "|    value_loss           | 76.7        |\n",
      "-----------------------------------------\n",
      "-----------------------------------------\n",
      "| rollout/                |             |\n",
      "|    ep_len_mean          | 75          |\n",
      "|    ep_rew_mean          | -24.2       |\n",
      "| time/                   |             |\n",
      "|    fps                  | 4805        |\n",
      "|    iterations           | 5           |\n",
      "|    time_elapsed         | 8           |\n",
      "|    total_timesteps      | 40960       |\n",
      "| train/                  |             |\n",
      "|    approx_kl            | 0.008803939 |\n",
      "|    clip_fraction        | 0.194       |\n",
      "|    clip_range           | 0.2         |\n",
      "|    entropy_loss         | -0.458      |\n",
      "|    explained_variance   | -3.58e-05   |\n",
      "|    learning_rate        | 0.0003      |\n",
      "|    loss                 | 25.2        |\n",
      "|    n_updates            | 40          |\n",
      "|    policy_gradient_loss | -0.0258     |\n",
      "|    value_loss           | 58          |\n",
      "-----------------------------------------\n",
      "-----------------------------------------\n",
      "| rollout/                |             |\n",
      "|    ep_len_mean          | 75          |\n",
      "|    ep_rew_mean          | -1.1        |\n",
      "| time/                   |             |\n",
      "|    fps                  | 4708        |\n",
      "|    iterations           | 6           |\n",
      "|    time_elapsed         | 10          |\n",
      "|    total_timesteps      | 49152       |\n",
      "| train/                  |             |\n",
      "|    approx_kl            | 0.006363196 |\n",
      "|    clip_fraction        | 0.149       |\n",
      "|    clip_range           | 0.2         |\n",
      "|    entropy_loss         | -0.371      |\n",
      "|    explained_variance   | -5.96e-07   |\n",
      "|    learning_rate        | 0.0003      |\n",
      "|    loss                 | 20          |\n",
      "|    n_updates            | 50          |\n",
      "|    policy_gradient_loss | -0.0231     |\n",
      "|    value_loss           | 45.7        |\n",
      "-----------------------------------------\n",
      "---------------------------------------\n",
      "| rollout/                |           |\n",
      "|    ep_len_mean          | 75        |\n",
      "|    ep_rew_mean          | 24.4      |\n",
      "| time/                   |           |\n",
      "|    fps                  | 4686      |\n",
      "|    iterations           | 7         |\n",
      "|    time_elapsed         | 12        |\n",
      "|    total_timesteps      | 57344     |\n",
      "| train/                  |           |\n",
      "|    approx_kl            | 0.1579479 |\n",
      "|    clip_fraction        | 0.126     |\n",
      "|    clip_range           | 0.2       |\n",
      "|    entropy_loss         | -0.186    |\n",
      "|    explained_variance   | -0.00199  |\n",
      "|    learning_rate        | 0.0003    |\n",
      "|    loss                 | 14.9      |\n",
      "|    n_updates            | 60        |\n",
      "|    policy_gradient_loss | -0.0254   |\n",
      "|    value_loss           | 30.4      |\n",
      "---------------------------------------\n",
      "------------------------------------------\n",
      "| rollout/                |              |\n",
      "|    ep_len_mean          | 75           |\n",
      "|    ep_rew_mean          | 43.8         |\n",
      "| time/                   |              |\n",
      "|    fps                  | 4621         |\n",
      "|    iterations           | 8            |\n",
      "|    time_elapsed         | 14           |\n",
      "|    total_timesteps      | 65536        |\n",
      "| train/                  |              |\n",
      "|    approx_kl            | 0.0059227445 |\n",
      "|    clip_fraction        | 0.0247       |\n",
      "|    clip_range           | 0.2          |\n",
      "|    entropy_loss         | -0.0827      |\n",
      "|    explained_variance   | -0.0275      |\n",
      "|    learning_rate        | 0.0003       |\n",
      "|    loss                 | 3.52         |\n",
      "|    n_updates            | 70           |\n",
      "|    policy_gradient_loss | -0.00915     |\n",
      "|    value_loss           | 16.9         |\n",
      "------------------------------------------\n",
      "-----------------------------------------\n",
      "| rollout/                |             |\n",
      "|    ep_len_mean          | 590         |\n",
      "|    ep_rew_mean          | 9.9         |\n",
      "| time/                   |             |\n",
      "|    fps                  | 4612        |\n",
      "|    iterations           | 9           |\n",
      "|    time_elapsed         | 15          |\n",
      "|    total_timesteps      | 73728       |\n",
      "| train/                  |             |\n",
      "|    approx_kl            | 0.012544528 |\n",
      "|    clip_fraction        | 0.0184      |\n",
      "|    clip_range           | 0.2         |\n",
      "|    entropy_loss         | -0.0448     |\n",
      "|    explained_variance   | 0.0111      |\n",
      "|    learning_rate        | 0.0003      |\n",
      "|    loss                 | 4.49        |\n",
      "|    n_updates            | 80          |\n",
      "|    policy_gradient_loss | -0.00425    |\n",
      "|    value_loss           | 18.7        |\n",
      "-----------------------------------------\n",
      "-------------------------------------------\n",
      "| rollout/                |               |\n",
      "|    ep_len_mean          | 646           |\n",
      "|    ep_rew_mean          | 47.4          |\n",
      "| time/                   |               |\n",
      "|    fps                  | 4602          |\n",
      "|    iterations           | 10            |\n",
      "|    time_elapsed         | 17            |\n",
      "|    total_timesteps      | 81920         |\n",
      "| train/                  |               |\n",
      "|    approx_kl            | 0.00014544849 |\n",
      "|    clip_fraction        | 0.00288       |\n",
      "|    clip_range           | 0.2           |\n",
      "|    entropy_loss         | -0.0459       |\n",
      "|    explained_variance   | 0.0147        |\n",
      "|    learning_rate        | 0.0003        |\n",
      "|    loss                 | 200           |\n",
      "|    n_updates            | 90            |\n",
      "|    policy_gradient_loss | -1.45e-05     |\n",
      "|    value_loss           | 355           |\n",
      "-------------------------------------------\n",
      "-------------------------------------------\n",
      "| rollout/                |               |\n",
      "|    ep_len_mean          | 228           |\n",
      "|    ep_rew_mean          | 161           |\n",
      "| time/                   |               |\n",
      "|    fps                  | 4502          |\n",
      "|    iterations           | 11            |\n",
      "|    time_elapsed         | 20            |\n",
      "|    total_timesteps      | 90112         |\n",
      "| train/                  |               |\n",
      "|    approx_kl            | 0.00017080133 |\n",
      "|    clip_fraction        | 0.00404       |\n",
      "|    clip_range           | 0.2           |\n",
      "|    entropy_loss         | -0.0556       |\n",
      "|    explained_variance   | 0.0379        |\n",
      "|    learning_rate        | 0.0003        |\n",
      "|    loss                 | 173           |\n",
      "|    n_updates            | 100           |\n",
      "|    policy_gradient_loss | -0.000311     |\n",
      "|    value_loss           | 394           |\n",
      "-------------------------------------------\n",
      "-------------------------------------------\n",
      "| rollout/                |               |\n",
      "|    ep_len_mean          | 224           |\n",
      "|    ep_rew_mean          | 159           |\n",
      "| time/                   |               |\n",
      "|    fps                  | 4438          |\n",
      "|    iterations           | 12            |\n",
      "|    time_elapsed         | 22            |\n",
      "|    total_timesteps      | 98304         |\n",
      "| train/                  |               |\n",
      "|    approx_kl            | 0.00012898893 |\n",
      "|    clip_fraction        | 0.00238       |\n",
      "|    clip_range           | 0.2           |\n",
      "|    entropy_loss         | -0.0483       |\n",
      "|    explained_variance   | 0.0376        |\n",
      "|    learning_rate        | 0.0003        |\n",
      "|    loss                 | 359           |\n",
      "|    n_updates            | 110           |\n",
      "|    policy_gradient_loss | -0.000134     |\n",
      "|    value_loss           | 326           |\n",
      "-------------------------------------------\n",
      "-------------------------------------------\n",
      "| rollout/                |               |\n",
      "|    ep_len_mean          | 251           |\n",
      "|    ep_rew_mean          | 187           |\n",
      "| time/                   |               |\n",
      "|    fps                  | 4449          |\n",
      "|    iterations           | 13            |\n",
      "|    time_elapsed         | 23            |\n",
      "|    total_timesteps      | 106496        |\n",
      "| train/                  |               |\n",
      "|    approx_kl            | 0.00013207737 |\n",
      "|    clip_fraction        | 0.00133       |\n",
      "|    clip_range           | 0.2           |\n",
      "|    entropy_loss         | -0.0483       |\n",
      "|    explained_variance   | 0.0328        |\n",
      "|    learning_rate        | 0.0003        |\n",
      "|    loss                 | 145           |\n",
      "|    n_updates            | 120           |\n",
      "|    policy_gradient_loss | 3.91e-05      |\n",
      "|    value_loss           | 400           |\n",
      "-------------------------------------------\n"
     ]
    },
    {
     "data": {
      "text/plain": [
       "<stable_baselines3.ppo.ppo.PPO at 0x2a9c9a190>"
      ]
     },
     "execution_count": 31,
     "metadata": {},
     "output_type": "execute_result"
    }
   ],
   "source": [
    "ppo_agent.learn(total_timesteps=100000)"
   ]
  },
  {
   "cell_type": "markdown",
   "id": "65811d8e-5b38-44e8-91ed-67be2f7e880f",
   "metadata": {},
   "source": [
    "## 4. Evaluate the Agent's Performance"
   ]
  },
  {
   "cell_type": "code",
   "execution_count": 33,
   "id": "ef12c9f0-a90f-47f5-8492-52f50ed4a337",
   "metadata": {},
   "outputs": [
    {
     "name": "stdout",
     "output_type": "stream",
     "text": [
      "Episode 1: Total Reward = -1.0\n",
      "Episode 2: Total Reward = -1.0\n",
      "Episode 3: Total Reward = -1.0\n",
      "Episode 4: Total Reward = -1.0\n",
      "Episode 5: Total Reward = -1.0\n"
     ]
    }
   ],
   "source": [
    "episodes = 5\n",
    "for ep in range(episodes):\n",
    "    state = env.reset()\n",
    "    total_reward = 0\n",
    "    done = False\n",
    "    while not done:\n",
    "        action, _ = ppo_agent.predict(state, deterministic=True)\n",
    "        state, reward, done, _ = env.step(action)\n",
    "        total_reward += reward\n",
    "    print(f\"Episode {ep+1}: Total Reward = {total_reward}\")"
   ]
  },
  {
   "cell_type": "markdown",
   "id": "10fbdd33-2336-4bf5-affb-5a24c4be3dac",
   "metadata": {},
   "source": [
    "## 5.  Save the Trained PPO Agent"
   ]
  },
  {
   "cell_type": "code",
   "execution_count": 35,
   "id": "cda96329-ca3e-4548-9a6f-d8618a4dd959",
   "metadata": {},
   "outputs": [],
   "source": [
    "ppo_agent.save(\"ppo_maintenance_agent.zip\")"
   ]
  },
  {
   "cell_type": "markdown",
   "id": "d586c93d-c50e-4fd1-8278-27389f47b668",
   "metadata": {},
   "source": [
    "## 6. Prepare Test Data"
   ]
  },
  {
   "cell_type": "code",
   "execution_count": 62,
   "id": "4b391ec1-d7bb-42f7-979f-9ba18ae44225",
   "metadata": {},
   "outputs": [
    {
     "name": "stdout",
     "output_type": "stream",
     "text": [
      "✅ Successfully converted to CSV: ~/Desktop/CMaps/test_FD002.csv\n"
     ]
    }
   ],
   "source": [
    "import pandas as pd\n",
    "\n",
    "txt_file_path = \"~/Desktop/CMaps/test_FD002.txt\"  \n",
    "csv_file_path = \"~/Desktop/CMaps/test_FD002.csv\"  \n",
    "\n",
    "df = pd.read_csv(txt_file_path, sep=\"\\s+\", header=None)  \n",
    "\n",
    "column_names = [\"id\", \"cycle\", \"op_setting_1\", \"op_setting_2\", \"op_setting_3\"] + \\\n",
    "               [f\"sensor_{i}\" for i in range(1, 22)]  \n",
    "df.columns = column_names  \n",
    "\n",
    "df.to_csv(csv_file_path, index=False)\n",
    "\n",
    "print(f\"✅ Successfully converted to CSV: {csv_file_path}\")\n"
   ]
  },
  {
   "cell_type": "code",
   "execution_count": null,
   "id": "d46856df-03d2-4290-bab7-62f41fc63234",
   "metadata": {},
   "outputs": [],
   "source": []
  }
 ],
 "metadata": {
  "kernelspec": {
   "display_name": "Python 3 (ipykernel)",
   "language": "python",
   "name": "python3"
  },
  "language_info": {
   "codemirror_mode": {
    "name": "ipython",
    "version": 3
   },
   "file_extension": ".py",
   "mimetype": "text/x-python",
   "name": "python",
   "nbconvert_exporter": "python",
   "pygments_lexer": "ipython3",
   "version": "3.11.7"
  }
 },
 "nbformat": 4,
 "nbformat_minor": 5
}
